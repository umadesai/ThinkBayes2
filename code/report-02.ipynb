{
 "cells": [
  {
   "cell_type": "markdown",
   "metadata": {},
   "source": [
    "# CompBayes: Report02\n",
    "\n",
    "## Uma Desai\n",
    "\n",
    "MIT License: https://opensource.org/licenses/MIT"
   ]
  },
  {
   "cell_type": "code",
   "execution_count": 24,
   "metadata": {
    "collapsed": false
   },
   "outputs": [],
   "source": [
    "from __future__ import print_function, division\n",
    "\n",
    "import numpy as np\n",
    "\n",
    "import thinkbayes2\n",
    "from thinkbayes2 import Pmf, Cdf, Suite, Beta\n",
    "import thinkplot\n",
    "\n",
    "% matplotlib inline"
   ]
  },
  {
   "cell_type": "markdown",
   "metadata": {},
   "source": [
    "## #1. Originial Bayes' Problem: Type 1\n",
    "\n",
    "Measles, mumps, and rubella (MMR) are very serious diseases that were common, especially among young children, before the introduction of MMR vaccines. Now most children are instructed to get 2 doses of MMR vaccine. The firsts dose is delivered when they are 12 to 15 months old, and the second does is delivered when they are 4 to 6 years old. According to the CDC, one dose of the MMR vaccine has about a 93% success rate for preventing measles if exposed to the virus, ad the two doses are about 97% successful. In a class of kindergartners, all between the ages of 5 and 7, at Sierra Oaks Elementary School, 85% of the students have already received both doses of the vaccine, while 15% of the students still need to receive their second dose. One student gets MMR, but the information about his vaccinations has been lost. What is the probability that he had already taken both doses of the vaccine and still got sick?\n",
    "\n",
    "For this problem we can define the set of hypotheses as:\n",
    "\n",
    "A. He had only taken one dose of the MMR vaccine.\n",
    "\n",
    "B. He had taken both doses of the MMR vaccine.\n",
    "\n",
    "The priors for each of these cases represent the probability that he had one or two doses, regardless of the fact that he got sick.\n",
    "\n",
    "H(A) = 0.15\n",
    "\n",
    "H(B) = 0.85"
   ]
  },
  {
   "cell_type": "markdown",
   "metadata": {},
   "source": [
    "The likelihoods for each case are determined by the success rate of each of the doses.\n",
    "\n",
    "Likelihood(A) = 0.07\n",
    "\n",
    "Likelihood(B) = 0.03"
   ]
  },
  {
   "cell_type": "markdown",
   "metadata": {},
   "source": [
    "We can use Bayes' Theorem to determine the posteriors for each case.\n",
    "\n",
    "Unnormalized Posterior(A) = H(A) * Likelihood (A) = (0.15) * (0.07) = 0.0105\n",
    "\n",
    "Unnormalized Posterior(B) = H(B) * Likelihood (B) = (0.85) * (0.03) = 0.0255"
   ]
  },
  {
   "cell_type": "markdown",
   "metadata": {},
   "source": [
    "Normalized Posterior(A) = 0.0105 / (0.0105 * 0.0255) = 0.291666667\n",
    "\n",
    "Normalized Posterior(B) = 0.0255 / (0.0105 * 0.0255) = 0.708333333\n",
    "\n",
    "So, the probability that he had already taken both doses of the vaccine and still got sick is 0.708!"
   ]
  },
  {
   "cell_type": "markdown",
   "metadata": {},
   "source": [
    "## #1. Originial Bayes' Problem: Type 2\n",
    "## Part 1"
   ]
  },
  {
   "cell_type": "markdown",
   "metadata": {},
   "source": [
    "Twins Dan and Liz are excited to be turning 11 years old, and their parents decide to get them each an orange tabby cat for their birthdays! Liz loves her new cats, Toby and Cara, but what she really wants is a female kitten. How many kittens do Toby and Cara have to produce in order for there to be an almost 100% chance that Liz gets a female kitten?"
   ]
  },
  {
   "cell_type": "markdown",
   "metadata": {},
   "source": [
    "To solve this problem, we first have to make a few assumptions. Since cats give birth to varying numbers of kittens at a time, we'll count each new kitten as a separate event. For each event, we'll assume that the probability that the kitten is female is 0.5. \n",
    "\n",
    "We want: P(k >= 1) > .99 where k represents the number of female kittens.\n",
    "\n",
    "The probability that at least one kitten is female is equal to 1 minus the probability that n kittens are male. \n",
    "\n",
    "P(k >= 1) = 1 - P(k < 1) = 1 - P(k = 0) \n",
    "\n",
    "1 - (n choose 0) * (1/2)^0 * (1/2)^n > 0.99\n",
    "\n",
    "(1/2)^n < 0.01\n",
    "\n",
    "n > 6.64\n",
    "\n",
    "So Toby and Cara must produce 7 kittens in order for there to be more than an 99% chance that Liz gets at least one female kitten."
   ]
  },
  {
   "cell_type": "markdown",
   "metadata": {},
   "source": [
    "## Part 2\n",
    "\n",
    "Now, what if Cara gives birth to 25 cats, and only 4 of the 25 cats were female? Do these results provide us with evidence that the assumption we made about the 50% chance of each kitten being female was off? \n",
    "\n",
    "To answer this question, we can estimate the probability x that Cara gives birth to a female kitten using Bayes' theorem and the observed data. If the odds of Cara giving birth to a male or female kitten are even, than we expect x to be close to 50%, but if females are more or less likely to be born, x may be very different. "
   ]
  },
  {
   "cell_type": "markdown",
   "metadata": {},
   "source": [
    "We can use a binomial likelihood function to solve for the chance of Cara giving birth to a female instead of a male. If the probability of heads is p, we can compute the probability of k=4 females in n=25 births using the binomial PMF."
   ]
  },
  {
   "cell_type": "code",
   "execution_count": 25,
   "metadata": {
    "collapsed": false
   },
   "outputs": [
    {
     "data": {
      "text/plain": [
       "3.0103345602249743e-06"
      ]
     },
     "execution_count": 25,
     "metadata": {},
     "output_type": "execute_result"
    }
   ],
   "source": [
    "class Kitten(Suite):\n",
    "    \"\"\"Compute the likelihood of 'data' given 'hypo'.\n",
    "    \n",
    "    data: tuple of (female births, male births)\n",
    "    hypo: probability of heads, 0-100\n",
    "    \n",
    "    returns: float\n",
    "    \"\"\"\n",
    "    def Likelihood(self, data, hypo):\n",
    "        x = hypo / 100.0\n",
    "        female, male = data\n",
    "        like = x**female * (1-x)**male\n",
    "        return like\n",
    "    \n",
    "suite = Kitten(xrange(0,101))\n",
    "dataset = 4, 21\n",
    "suite.Update(dataset)"
   ]
  },
  {
   "cell_type": "code",
   "execution_count": 26,
   "metadata": {
    "collapsed": false
   },
   "outputs": [
    {
     "data": {
      "text/plain": [
       "18.51851788666986"
      ]
     },
     "execution_count": 26,
     "metadata": {},
     "output_type": "execute_result"
    },
    {
     "data": {
      "image/png": "[encoded data removed]",
      "text/plain": [
       "<matplotlib.figure.Figure at 0x7fcc5335f0d0>"
      ]
     },
     "metadata": {},
     "output_type": "display_data"
    }
   ],
   "source": [
    "thinkplot.Pdf(suite)\n",
    "suite.Mean()"
   ]
  },
  {
   "cell_type": "code",
   "execution_count": 27,
   "metadata": {
    "collapsed": false
   },
   "outputs": [
    {
     "data": {
      "text/plain": [
       "(8, 32)"
      ]
     },
     "execution_count": 27,
     "metadata": {},
     "output_type": "execute_result"
    }
   ],
   "source": [
    "suite.CredibleInterval(90)"
   ]
  },
  {
   "cell_type": "markdown",
   "metadata": {},
   "source": [
    "Turns out that only about 20% of orange tabby cats are female. The gene for the orange color is a recessive trait that is located on the X chromosome . While males only have to inherit one orange gene to appear orange, females have to inherit two. Liz better take good care of her new female kittens, because it looks like it's going to be a while before Cara produces another!"
   ]
  },
  {
   "cell_type": "markdown",
   "metadata": {},
   "source": [
    "## The Chess Problem\n",
    "\n",
    "This question is from a quiz by Allen Downey.\n",
    "\n",
    "Two identical twins are members of my chess club, but they never show up on the same day; in fact, they strictly alternate the days they show up. I can't tell them apart except that one is a better player than the other: Avery beats me 60% of the time and I beat Blake 70% of the time. If I play one twin on Monday and win, and the other twin on Tuesday and lose, which twin did I play on which day?\n",
    "\n",
    "Our prior is that each case has an equal probability of occuring. Using the information given, I can multiply each prior by the corresponding likeliood to get my posteriors."
   ]
  },
  {
   "cell_type": "code",
   "execution_count": 28,
   "metadata": {
    "collapsed": false
   },
   "outputs": [
    {
     "name": "stdout",
     "output_type": "stream",
     "text": [
      "AB 0.222222222222\n",
      "BA 0.777777777778\n"
     ]
    }
   ],
   "source": [
    "# 'AB' represents hypothesis 1 that you play Avery first and Blake second\n",
    "# 'BA' represents hypothesis 2 that you play Blake first and Avery second \n",
    "Chess = Pmf(['AB', 'BA'])\n",
    "Chess.Mult('AB', 0.4*0.3)\n",
    "Chess.Mult('BA', 0.6*0.7)\n",
    "Chess.Normalize()\n",
    "Chess.Print()"
   ]
  },
  {
   "cell_type": "markdown",
   "metadata": {},
   "source": [
    "The results from this model indicate that there is a 77.8% chance that you played Blake before you played Avery."
   ]
  },
  {
   "cell_type": "markdown",
   "metadata": {
    "collapsed": true
   },
   "source": [
    "## Kim Rhode Problem\n",
    "\n",
    "This problem is from a workbook by Allen Downey.\n",
    "\n",
    "At the 2016 Summer Olympics in the Women's Skeet event, Kim Rhode faced Wei Meng in the bronze medal match.  They each hit 15 of 25 skeets, sending the match into sudden death.  In the first round, both hit 1 of 2 skeets.  In the next two rounds, they each hit 2 skeets.  Finally, in the fourth round, Rhode hit 2 and Wei hit 1, so Rhode won the bronze medal, making her the first Summer Olympian to win an individual medal at six consecutive summer games.\n",
    "\n",
    "But after all that shooting, what is the probability that Rhode is actually a better shooter than Wei?  If the same match were held again, what is the probability that Rhode would win?\n",
    "\n",
    "As always, you will have to make some modeling decisions, but one approach is to estimate, for each shooter, the probability of hitting a skeet.  Then, to estimate the probability that Rhode is a better shooter, you can draw samples from the two posterior distributions and compare them.  To estimate the probability of winning a rematch, you could draw samples from the posterior distributions and simulate a round of 25 shots."
   ]
  },
  {
   "cell_type": "markdown",
   "metadata": {
    "collapsed": false
   },
   "source": [
    "First, I looked for data that I could use to easily compare Rhode and her opponent Meng using a beta function. I found data showing the mean number of clays hit and missed from past Olympic competitions and inputed these values into the beta function."
   ]
  },
  {
   "cell_type": "code",
   "execution_count": 29,
   "metadata": {
    "collapsed": false
   },
   "outputs": [],
   "source": [
    "Rhode = Beta(42, 8, label = \"Rhode\")\n",
    "Meng = Beta(42,8, label = \"Meng\")"
   ]
  },
  {
   "cell_type": "markdown",
   "metadata": {},
   "source": [
    "Next, I updated the data with the new results."
   ]
  },
  {
   "cell_type": "code",
   "execution_count": 30,
   "metadata": {
    "collapsed": false
   },
   "outputs": [
    {
     "data": {
      "image/png": "[encoded data removed]",
      "text/plain": [
       "<matplotlib.figure.Figure at 0x7fcc53276c90>"
      ]
     },
     "metadata": {},
     "output_type": "display_data"
    }
   ],
   "source": [
    "Rhode.Update((15+1+2+2, 10+1))\n",
    "Meng.Update((15+1+2+1, 10+1+1))\n",
    "thinkplot.Pdf(Rhode.MakePmf())\n",
    "thinkplot.Pdf(Meng.MakePmf())\n",
    "thinkplot.Config(ylabel = 'Probability', xlabel = 'x')"
   ]
  },
  {
   "cell_type": "markdown",
   "metadata": {},
   "source": [
    "Finally, tusing a cumulative distribution of the betas for Rhode and Meng, we can determine an approximate probability that Rhode is actually a better shooter than Meng."
   ]
  },
  {
   "cell_type": "code",
   "execution_count": 42,
   "metadata": {
    "collapsed": false
   },
   "outputs": [
    {
     "data": {
      "text/plain": [
       "0.54600000000000004"
      ]
     },
     "execution_count": 42,
     "metadata": {},
     "output_type": "execute_result"
    }
   ],
   "source": [
    "rhode_sample = Rhode.MakeCdf(2000).Sample(2000)\n",
    "meng_sample = Meng.MakeCdf(2000).Sample(2000)\n",
    "np.mean(rhode_sample > meng_sample)"
   ]
  },
  {
   "cell_type": "code",
   "execution_count": 43,
   "metadata": {
    "collapsed": false
   },
   "outputs": [
    {
     "data": {
      "text/plain": [
       "0.45000000000000001"
      ]
     },
     "execution_count": 43,
     "metadata": {},
     "output_type": "execute_result"
    }
   ],
   "source": [
    "np.mean(rhode_sample < meng_sample)"
   ]
  },
  {
   "cell_type": "markdown",
   "metadata": {},
   "source": [
    "The results produced by this model indicate that the probability that Rhode is a better shooter than Meng is 54.6%!"
   ]
  },
  {
   "cell_type": "markdown",
   "metadata": {},
   "source": [
    "Now, I want to figure out what would happen if there was ever an epic rematch between Rhode and Meng. Would Rhode win?"
   ]
  },
  {
   "cell_type": "code",
   "execution_count": 44,
   "metadata": {
    "collapsed": false
   },
   "outputs": [
    {
     "data": {
      "text/plain": [
       "0.44850000000000001"
      ]
     },
     "execution_count": 44,
     "metadata": {},
     "output_type": "execute_result"
    }
   ],
   "source": [
    "rematch_rhode = np.random.binomial(25, rhode_sample)\n",
    "rematch_meng = np.random.binomial(25, meng_sample)\n",
    "np.mean(rematch_rhode > rematch_meng)"
   ]
  },
  {
   "cell_type": "markdown",
   "metadata": {},
   "source": [
    "According to this model, there is a 44.85% chance that Rhode would win."
   ]
  },
  {
   "cell_type": "markdown",
   "metadata": {
    "collapsed": true
   },
   "source": [
    "## Wedding Problem\n",
    "\n",
    "This question was found at:\n",
    "http://stattrek.com/probability/bayes-theorem.aspx\n",
    "\n",
    "Marie is getting married tomorrow, at an outdoor ceremony in the desert. In recent years, it has rained only 5 days each year. Unfortunately, the weatherman has predicted rain for tomorrow. When it actually rains, the weatherman correctly forecasts rain 90% of the time. When it doesn't rain, he incorrectly forecasts rain 10% of the time. What is the probability that it will rain on the day of Marie's wedding?\n",
    "\n",
    "The two possible hypotheses are:\n",
    "A. It will rain on Marie's wedding day.\n",
    "B. It won't rain on Marie's wedding day.\n",
    "\n",
    "The priors are:\n",
    "Prior(A) = 5/365\n",
    "Prior (B) = 360/365\n",
    "\n",
    "The Likelihoods are:\n",
    "Likelihood(A) = .90\n",
    "Likelihood(B) = .10\n",
    "\n",
    "So, plugging in all of these terms into Bayes' theorem yields the following result for the posteriod of hyporthesis A:\n",
    "Posterior(A) = 0.11\n",
    "\n",
    "Thus, there is only a 11% chance that it will rain on Marie's wedding day despite the fact that the weatherman predicted rain."
   ]
  },
  {
   "cell_type": "markdown",
   "metadata": {},
   "source": [
    "## Euro Problem"
   ]
  },
  {
   "cell_type": "markdown",
   "metadata": {},
   "source": [
    "This problem is from a workbook by Allen Downey."
   ]
  },
  {
   "cell_type": "markdown",
   "metadata": {},
   "source": [
    "Suppose you believe that most coins are fair or unlikely to deviate from 50% by more than a few percentage points. Construct a prior that captures this belief and update it with the Euro data. How much effect does it have on the posterior, compared to the uniform prior?"
   ]
  },
  {
   "cell_type": "code",
   "execution_count": 34,
   "metadata": {
    "collapsed": true
   },
   "outputs": [],
   "source": [
    "from scipy import special\n",
    "\n",
    "class Beta:\n",
    "    \"\"\"Represents a Beta distribution.\n",
    "\n",
    "    See http://en.wikipedia.org/wiki/Beta_distribution\n",
    "    \"\"\"\n",
    "    def __init__(self, alpha=1, beta=1, label=None):\n",
    "        \"\"\"Initializes a Beta distribution.\"\"\"\n",
    "        self.alpha = alpha\n",
    "        self.beta = beta\n",
    "        self.label = label if label is not None else '_nolegend_'\n",
    "\n",
    "    def Update(self, data):\n",
    "        \"\"\"Updates a Beta distribution.\n",
    "\n",
    "        data: pair of int (heads, tails)\n",
    "        \"\"\"\n",
    "        heads, tails = data\n",
    "        self.alpha += heads\n",
    "        self.beta += tails\n",
    "\n",
    "    def Mean(self):\n",
    "        \"\"\"Computes the mean of this distribution.\"\"\"\n",
    "        return self.alpha / (self.alpha + self.beta)\n",
    "\n",
    "    def MAP(self):\n",
    "        \"\"\"Computes the value with maximum a posteori probability.\"\"\"\n",
    "        a = self.alpha - 1\n",
    "        b = self.beta - 1\n",
    "        return a / (a + b)\n",
    "\n",
    "    def Random(self):\n",
    "        \"\"\"Generates a random variate from this distribution.\"\"\"\n",
    "        return random.betavariate(self.alpha, self.beta)\n",
    "\n",
    "    def Sample(self, n):\n",
    "        \"\"\"Generates a random sample from this distribution.\n",
    "\n",
    "        n: int sample size\n",
    "        \"\"\"\n",
    "        size = n,\n",
    "        return np.random.beta(self.alpha, self.beta, size)\n",
    "\n",
    "    def EvalPdf(self, x):\n",
    "        \"\"\"Evaluates the PDF at x.\"\"\"\n",
    "        return x ** (self.alpha - 1) * (1 - x) ** (self.beta - 1)\n",
    "\n",
    "    def MakePmf(self, steps=101, label=None):\n",
    "        \"\"\"Returns a Pmf of this distribution.\n",
    "\n",
    "        Note: Normally, we just evaluate the PDF at a sequence\n",
    "        of points and treat the probability density as a probability\n",
    "        mass.\n",
    "\n",
    "        But if alpha or beta is less than one, we have to be\n",
    "        more careful because the PDF goes to infinity at x=0\n",
    "        and x=1.  In that case we evaluate the CDF and compute\n",
    "        differences.\n",
    "\n",
    "        The result is a little funny, because the values at 0 and 1\n",
    "        are not symmetric.  Nevertheless, it is a reasonable discrete\n",
    "        model of the continuous distribution, and behaves well as\n",
    "        the number of values increases.\n",
    "        \"\"\"\n",
    "        if label is None and self.label is not None:\n",
    "            label = self.label\n",
    "\n",
    "        if self.alpha < 1 or self.beta < 1:\n",
    "            cdf = self.MakeCdf()\n",
    "            pmf = cdf.MakePmf()\n",
    "            return pmf\n",
    "\n",
    "        xs = [i / (steps - 1) for i in range(steps)]\n",
    "        probs = [self.EvalPdf(x) for x in xs]\n",
    "        pmf = Pmf(dict(zip(xs, probs)), label=label)\n",
    "        return pmf\n",
    "\n",
    "    def MakeCdf(self, steps=101):\n",
    "        \"\"\"Returns the CDF of this distribution.\"\"\"\n",
    "        xs = [i / (steps - 1) for i in range(steps)]\n",
    "        ps = special.betainc(self.alpha, self.beta, xs)\n",
    "        cdf = Cdf(xs, ps)\n",
    "        return cdf\n",
    "\n",
    "    def Percentile(self, ps):\n",
    "        \"\"\"Returns the given percentiles from this distribution.\n",
    "\n",
    "        ps: scalar, array, or list of [0-100]\n",
    "        \"\"\"\n",
    "        ps = np.asarray(ps) / 100\n",
    "        xs = special.betaincinv(self.alpha, self.beta, ps)\n",
    "        return xs"
   ]
  },
  {
   "cell_type": "markdown",
   "metadata": {},
   "source": [
    "We'll first implement this with the uniform prior and up date it with 140 heads and 110 tails. A Beta distribution with parameters `(1, 1)` is uniform from 0 to 1."
   ]
  },
  {
   "cell_type": "code",
   "execution_count": 40,
   "metadata": {
    "collapsed": false
   },
   "outputs": [
    {
     "data": {
      "text/plain": [
       "0.5595238095238095"
      ]
     },
     "execution_count": 40,
     "metadata": {},
     "output_type": "execute_result"
    },
    {
     "data": {
      "image/png": "[encoded data removed]",
      "text/plain": [
       "<matplotlib.figure.Figure at 0x7fcc53787290>"
      ]
     },
     "metadata": {},
     "output_type": "display_data"
    }
   ],
   "source": [
    "beta = Beta()\n",
    "beta.Update((140, 110))\n",
    "thinkplot.Pdf(beta.MakePmf())\n",
    "beta.Mean()"
   ]
  },
  {
   "cell_type": "code",
   "execution_count": 41,
   "metadata": {
    "collapsed": false
   },
   "outputs": [
    {
     "data": {
      "text/plain": [
       "0.55968152742686994"
      ]
     },
     "execution_count": 41,
     "metadata": {},
     "output_type": "execute_result"
    }
   ],
   "source": [
    "beta.Percentile(50)"
   ]
  },
  {
   "cell_type": "markdown",
   "metadata": {},
   "source": [
    "Centering the beta values around 0.5 gives us a slightly different result."
   ]
  },
  {
   "cell_type": "code",
   "execution_count": 149,
   "metadata": {
    "collapsed": false
   },
   "outputs": [
    {
     "data": {
      "text/plain": [
       "0.5576923076923077"
      ]
     },
     "execution_count": 149,
     "metadata": {},
     "output_type": "execute_result"
    },
    {
     "data": {
      "image/png": "[encoded data removed]",
      "text/plain": [
       "<matplotlib.figure.Figure at 0x7f37cd2e5110>"
      ]
     },
     "metadata": {},
     "output_type": "display_data"
    }
   ],
   "source": [
    "beta = Beta(5, 5)\n",
    "beta.Update((140, 110))\n",
    "thinkplot.Pdf(beta.MakePmf())\n",
    "beta.Mean()"
   ]
  },
  {
   "cell_type": "code",
   "execution_count": 39,
   "metadata": {
    "collapsed": false
   },
   "outputs": [
    {
     "data": {
      "text/plain": [
       "0.55968152742686994"
      ]
     },
     "execution_count": 39,
     "metadata": {},
     "output_type": "execute_result"
    }
   ],
   "source": [
    "beta.Percentile(50)"
   ]
  },
  {
   "cell_type": "markdown",
   "metadata": {},
   "source": [
    "There is a noticeable effect on the posterior. Adding the belief that the coin is likely around 50% results in a lower mean value. The distribution curve appears to be just slightly closer to the center point of the x axis."
   ]
  }
 ],
 "metadata": {
  "kernelspec": {
   "display_name": "Python [Root]",
   "language": "python",
   "name": "Python [Root]"
  },
  "language_info": {
   "codemirror_mode": {
    "name": "ipython",
    "version": 2
   },
   "file_extension": ".py",
   "mimetype": "text/x-python",
   "name": "python",
   "nbconvert_exporter": "python",
   "pygments_lexer": "ipython2",
   "version": "2.7.12"
  }
 },
 "nbformat": 4,
 "nbformat_minor": 0
}
