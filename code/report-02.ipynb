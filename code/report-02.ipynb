{
 "cells": [
  {
   "cell_type": "markdown",
   "metadata": {},
   "source": [
    "# CompBayes: Report02\n",
    "\n",
    "## Uma Desai\n",
    "\n",
    "MIT License: https://opensource.org/licenses/MIT"
   ]
  },
  {
   "cell_type": "code",
   "execution_count": 122,
   "metadata": {
    "collapsed": false
   },
   "outputs": [],
   "source": [
    "from __future__ import print_function, division\n",
    "\n",
    "import numpy as np\n",
    "\n",
    "import thinkbayes2\n",
    "from thinkbayes2 import Pmf, Cdf, Suite, Beta\n",
    "import thinkplot\n",
    "\n",
    "% matplotlib inline"
   ]
  },
  {
   "cell_type": "markdown",
   "metadata": {},
   "source": [
    "## #1. Originial Bayes' Problem: Type 1\n",
    "\n",
    "Measles, mumps, and rubella (MMR) are very serious diseases that were common, especially among young children, before the introduction of MMR vaccines. Now most children are instructed to get 2 doses of MMR vaccine. The firsts dose is delivered when they are 12 to 15 months old, and the second does is delivered when they are 4 to 6 years old. According to the CDC, one dose of the MMR vaccine has about a 93% success rate for preventing measles if exposed to the virus, ad the two doses are about 97% successful. In a class of kindergartners, all between the ages of 5 and 7, at Sierra Oaks Elementary School, 85% of the students have already received both doses of the vaccine, while 15% of the students still need to receive their second dose. One student gets MMR, but the information about his vaccinations has been lost. What is the probability that he had already taken both doses of the vaccine and still got sick?\n",
    "\n",
    "For this problem we can define the set of hypotheses as:\n",
    "\n",
    "A. He had only taken one dose of the MMR vaccine.\n",
    "\n",
    "B. He had taken both doses of the MMR vaccine.\n",
    "\n",
    "The priors for each of these cases represent the probability that he had one or two doses, regardless of the fact that he got sick.\n",
    "\n",
    "H(A) = 0.15\n",
    "\n",
    "H(B) = 0.85"
   ]
  },
  {
   "cell_type": "markdown",
   "metadata": {},
   "source": [
    "The likelihoods for each case are determined by the success rate of each of the doses.\n",
    "\n",
    "Likelihood(A) = 0.07\n",
    "\n",
    "Likelihood(B) = 0.03"
   ]
  },
  {
   "cell_type": "markdown",
   "metadata": {},
   "source": [
    "We can use Bayes' Theorem to determine the posteriors for each case.\n",
    "\n",
    "Unnormalized Posterior(A) = H(A) * Likelihood (A) = (0.15) * (0.07) = 0.0105\n",
    "\n",
    "Unnormalized Posterior(B) = H(B) * Likelihood (B) = (0.85) * (0.03) = 0.0255"
   ]
  },
  {
   "cell_type": "markdown",
   "metadata": {},
   "source": [
    "Normalized Posterior(A) = 0.0105 / (0.0105 * 0.0255) = 0.291666667\n",
    "\n",
    "Normalized Posterior(B) = 0.0255 / (0.0105 * 0.0255) = 0.708333333\n",
    "\n",
    "So, the probability that he had already taken both doses of the vaccine and still got sick is 0.708!"
   ]
  },
  {
   "cell_type": "markdown",
   "metadata": {},
   "source": [
    "## #1. Originial Bayes' Problem: Type 2\n",
    "## Part 1"
   ]
  },
  {
   "cell_type": "markdown",
   "metadata": {},
   "source": [
    "Twins Dan and Liz are excited to be turning 11 years old, and their parents decide to get them each an orange tabby cat for their birthdays! Liz loves her new cats, Toby and Cara, but what she really wants is a female kitten. How many kittens do Toby and Cara have to produce in order for there to be an almost 100% chance that Liz gets a female kitten?"
   ]
  },
  {
   "cell_type": "markdown",
   "metadata": {},
   "source": [
    "To solve this problem, we first have to make a few assumptions. Since cats give birth to varying numbers of kittens at a time, we'll count each new kitten as a separate event. For each event, we'll assume that the probability that the kitten is female is 0.5. \n",
    "\n",
    "We want: P(k >= 1) > .99 where k represents the number of female kittens.\n",
    "\n",
    "The probability that at least one kitten is female is equal to 1 minus the probability that n kittens are male. \n",
    "\n",
    "P(k >= 1) = 1 - P(k < 1) = 1 - P(k = 0) \n",
    "\n",
    "1 - (n choose 0) * (1/2)^0 * (1/2)^n > 0.99\n",
    "\n",
    "(1/2)^n < 0.01\n",
    "\n",
    "n > 6.64\n",
    "\n",
    "So Toby and Cara must produce 7 kittens in order for there to be more than an 99% chance that Liz gets at least one female kitten."
   ]
  },
  {
   "cell_type": "markdown",
   "metadata": {},
   "source": [
    "## Part 2\n",
    "\n",
    "Now, what if Cara gives birth to 25 cats, and only 4 of the 25 cats were female? Do these results provide us with evidence that the assumption we made about the 50% chance of each kitten being female was off? \n",
    "\n",
    "To answer this question, we can estimate the probability x that Cara gives birth to a female kitten using Bayes' theorem and the observed data. If the odds of Cara giving birth to a male or female kitten are even, than we expect x to be close to 50%, but if females are more or less likely to be born, x may be very different. "
   ]
  },
  {
   "cell_type": "markdown",
   "metadata": {},
   "source": [
    "We can use a binomial likelihood function to solve for the chance of Cara giving birth to a female instead of a male. If the probability of heads is p, we can compute the probability of k=4 females in n=25 births using the binomial PMF."
   ]
  },
  {
   "cell_type": "code",
   "execution_count": 112,
   "metadata": {
    "collapsed": false
   },
   "outputs": [
    {
     "data": {
      "text/plain": [
       "3.0103345602249743e-06"
      ]
     },
     "execution_count": 112,
     "metadata": {},
     "output_type": "execute_result"
    }
   ],
   "source": [
    "class Kitten(Suite):\n",
    "    \"\"\"Compute the likelihood of 'data' given 'hypo'.\n",
    "    \n",
    "    data: tuple of (female births, male births)\n",
    "    hypo: probability of heads, 0-100\n",
    "    \n",
    "    returns: float\n",
    "    \"\"\"\n",
    "    def Likelihood(self, data, hypo):\n",
    "        x = hypo / 100.0\n",
    "        female, male = data\n",
    "        like = x**female * (1-x)**male\n",
    "        return like\n",
    "    \n",
    "suite = Kitten(xrange(0,101))\n",
    "dataset = 4, 21\n",
    "suite.Update(dataset)"
   ]
  },
  {
   "cell_type": "code",
   "execution_count": 113,
   "metadata": {
    "collapsed": false
   },
   "outputs": [
    {
     "data": {
      "text/plain": [
       "18.51851788666986"
      ]
     },
     "execution_count": 113,
     "metadata": {},
     "output_type": "execute_result"
    },
    {
     "data": {
      "image/png": "[encoded data removed]",
      "text/plain": [
       "<matplotlib.figure.Figure at 0x7f37cd3ba190>"
      ]
     },
     "metadata": {},
     "output_type": "display_data"
    }
   ],
   "source": [
    "thinkplot.Pdf(suite)\n",
    "suite.Mean()"
   ]
  },
  {
   "cell_type": "code",
   "execution_count": 114,
   "metadata": {
    "collapsed": false
   },
   "outputs": [
    {
     "data": {
      "text/plain": [
       "(8, 32)"
      ]
     },
     "execution_count": 114,
     "metadata": {},
     "output_type": "execute_result"
    }
   ],
   "source": [
    "suite.CredibleInterval(90)"
   ]
  },
  {
   "cell_type": "markdown",
   "metadata": {},
   "source": [
    "Turns out that only about 20% of orange tabby cats are female. The gene for the orange color is a recessive trait that is located on the X chromosome . While males only have to inherit one orange gene to appear orange, females have to inherit two. Liz better take good care of her new female kittens, because it looks like it's going to be a while before Cara produces another!"
   ]
  },
  {
   "cell_type": "markdown",
   "metadata": {},
   "source": [
    "## The Chess Problem\n",
    "\n",
    "This question is from a quiz by Allen Downey.\n",
    "\n",
    "Two identical twins are members of my chess club, but they never show up on the same day; in fact, they strictly alternate the days they show up. I can't tell them apart except that one is a better player than the other: Avery beats me 60% of the time and I beat Blake 70% of the time. If I play one twin on Monday and win, and the other twin on Tuesday and lose, which twin did I play on which day?\n",
    "\n",
    "For this problem, let's assume that it is equally likely that either scenario could occur. Hypothesis one is that I play Avery first and then Blake second, with hypothesis two being the opposite. I also know how often I win or lose against each one and I will multiply these probabilities to get my likelihood. Now I can set up my problem.\n"
   ]
  },
  {
   "cell_type": "code",
   "execution_count": 120,
   "metadata": {
    "collapsed": false
   },
   "outputs": [
    {
     "name": "stdout",
     "output_type": "stream",
     "text": [
      "AB 0.222222222222\n",
      "BA 0.777777777778\n"
     ]
    }
   ],
   "source": [
    "# 'AB' represents hypothesis 1 that you play Avery first and Blake second\n",
    "# 'BA' represents hypothesis 2 that you play Blake first and Avery second \n",
    "Chess = Pmf(['AB', 'BA'])\n",
    "Chess.Mult('AB', 0.4*0.3)\n",
    "Chess.Mult('BA', 0.6*0.7)\n",
    "Chess.Normalize()\n",
    "Chess.Print()"
   ]
  },
  {
   "cell_type": "markdown",
   "metadata": {},
   "source": [
    "The results from this model indicate that there is a 77.8% chance that you played Blake before you played Avery."
   ]
  },
  {
   "cell_type": "markdown",
   "metadata": {
    "collapsed": true
   },
   "source": [
    "## Kim Rhode Problem\n",
    "\n",
    "This problem is from a workbook by Allen Downey.\n",
    "\n",
    "At the 2016 Summer Olympics in the Women's Skeet event, Kim Rhode faced Wei Meng in the bronze medal match.  They each hit 15 of 25 skeets, sending the match into sudden death.  In the first round, both hit 1 of 2 skeets.  In the next two rounds, they each hit 2 skeets.  Finally, in the fourth round, Rhode hit 2 and Wei hit 1, so Rhode won the bronze medal, making her the first Summer Olympian to win an individual medal at six consecutive summer games.\n",
    "\n",
    "But after all that shooting, what is the probability that Rhode is actually a better shooter than Wei?  If the same match were held again, what is the probability that Rhode would win?\n",
    "\n",
    "As always, you will have to make some modeling decisions, but one approach is to estimate, for each shooter, the probability of hitting a skeet.  Then, to estimate the probability that Rhode is a better shooter, you can draw samples from the two posterior distributions and compare them.  To estimate the probability of winning a rematch, you could draw samples from the posterior distributions and simulate a round of 25 shots."
   ]
  },
  {
   "cell_type": "markdown",
   "metadata": {
    "collapsed": false
   },
   "source": [
    "First, I looked for data that I could use to easily compare Rhode and her opponent Meng using a beta function. I found data showing the mean number of clays hit and missed from the 2012 Olympics and inputed these values into the beta function."
   ]
  },
  {
   "cell_type": "code",
   "execution_count": 124,
   "metadata": {
    "collapsed": false
   },
   "outputs": [],
   "source": [
    "Rhode = Beta(22, 3, label = \"Rhode\")\n",
    "Meng = Beta(22,3, label = \"Meng\")"
   ]
  },
  {
   "cell_type": "markdown",
   "metadata": {},
   "source": [
    "Next, I updated the data with the new results."
   ]
  },
  {
   "cell_type": "code",
   "execution_count": 136,
   "metadata": {
    "collapsed": false
   },
   "outputs": [
    {
     "data": {
      "image/png": "[encoded data removed]",
      "text/plain": [
       "<matplotlib.figure.Figure at 0x7f37cd2ab910>"
      ]
     },
     "metadata": {},
     "output_type": "display_data"
    }
   ],
   "source": [
    "Rhode.Update((15+1+2+2, 10+1+0))\n",
    "Meng.Update((15+1+2+1, 10+1+1))\n",
    "thinkplot.Pdf(Rhode.MakePmf())\n",
    "thinkplot.Pdf(Meng.MakePmf())\n",
    "thinkplot.Config(ylabel = 'Probability', xlabel = 'x')"
   ]
  },
  {
   "cell_type": "markdown",
   "metadata": {},
   "source": [
    "Finally, tusing a cumulative distribution of the betas for Rhode and Meng, we can determine an approximate probability that Rhode is actually a better shooter than Meng."
   ]
  },
  {
   "cell_type": "code",
   "execution_count": 139,
   "metadata": {
    "collapsed": false
   },
   "outputs": [
    {
     "data": {
      "text/plain": [
       "0.77500000000000002"
      ]
     },
     "execution_count": 139,
     "metadata": {},
     "output_type": "execute_result"
    }
   ],
   "source": [
    "rhode_sample = Rhode.MakeCdf(1000).Sample(1000)\n",
    "meng_sample = Meng.MakeCdf(1000).Sample(1000)\n",
    "np.mean(rhode_sample > meng_sample)"
   ]
  },
  {
   "cell_type": "code",
   "execution_count": 140,
   "metadata": {
    "collapsed": false
   },
   "outputs": [
    {
     "data": {
      "text/plain": [
       "0.214"
      ]
     },
     "execution_count": 140,
     "metadata": {},
     "output_type": "execute_result"
    }
   ],
   "source": [
    "np.mean(rhode_sample < meng_sample)"
   ]
  },
  {
   "cell_type": "markdown",
   "metadata": {},
   "source": [
    "The results produced by this model indicate that the probability that Rhode is a better shooter than Meng is 77.5%!"
   ]
  },
  {
   "cell_type": "markdown",
   "metadata": {},
   "source": [
    "Now, I want to figure out what would happen if there was ever an epic rematch between Rhode and Meng. Would Rhode win?"
   ]
  },
  {
   "cell_type": "code",
   "execution_count": 144,
   "metadata": {
    "collapsed": false
   },
   "outputs": [
    {
     "data": {
      "text/plain": [
       "0.53300000000000003"
      ]
     },
     "execution_count": 144,
     "metadata": {},
     "output_type": "execute_result"
    }
   ],
   "source": [
    "rematch_rhode = np.random.binomial(25, rhode_sample)\n",
    "rematch_meng = np.random.binomial(25, meng_sample)\n",
    "np.mean(rematch_rhode > rematch_meng)"
   ]
  },
  {
   "cell_type": "markdown",
   "metadata": {},
   "source": [
    "According to this model, there is a 53.3% chance that Rhode would win."
   ]
  },
  {
   "cell_type": "markdown",
   "metadata": {
    "collapsed": true
   },
   "source": [
    "## Wedding Problem\n",
    "\n",
    "This question was found at:\n",
    "http://stattrek.com/probability/bayes-theorem.aspx\n",
    "\n",
    "Marie is getting married tomorrow, at an outdoor ceremony in the desert. In recent years, it has rained only 5 days each year. Unfortunately, the weatherman has predicted rain for tomorrow. When it actually rains, the weatherman correctly forecasts rain 90% of the time. When it doesn't rain, he incorrectly forecasts rain 10% of the time. What is the probability that it will rain on the day of Marie's wedding?\n",
    "\n",
    "The two possible hypotheses are:\n",
    "A. It will rain on Marie's wedding day.\n",
    "B. It won't rain on Marie's wedding day.\n",
    "\n",
    "The priors are:\n",
    "Prior(A) = 5/365\n",
    "Prior (B) = 360/365\n",
    "\n",
    "The Likelihoods are:\n",
    "Likelihood(A) = .90\n",
    "Likelihood(B) = .10\n",
    "\n",
    "So, plugging in all of these terms into Bayes' theorem yields the following result for the posteriod of hyporthesis A:\n",
    "Posterior(A) = 0.11\n",
    "\n",
    "Thus, there is only a 11% chance that it will rain on Marie's wedding day despite the fact that the weatherman predicted rain."
   ]
  },
  {
   "cell_type": "code",
   "execution_count": null,
   "metadata": {
    "collapsed": true
   },
   "outputs": [],
   "source": []
  }
 ],
 "metadata": {
  "kernelspec": {
   "display_name": "Python [Root]",
   "language": "python",
   "name": "Python [Root]"
  },
  "language_info": {
   "codemirror_mode": {
    "name": "ipython",
    "version": 2
   },
   "file_extension": ".py",
   "mimetype": "text/x-python",
   "name": "python",
   "nbconvert_exporter": "python",
   "pygments_lexer": "ipython2",
   "version": "2.7.12"
  }
 },
 "nbformat": 4,
 "nbformat_minor": 0
}
