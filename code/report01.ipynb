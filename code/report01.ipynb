{
 "cells": [
  {
   "cell_type": "markdown",
   "metadata": {
    "collapsed": true
   },
   "source": [
    "Bayes' Theorem Problem\n",
    "\n",
    "Uma Desai"
   ]
  },
  {
   "cell_type": "markdown",
   "metadata": {},
   "source": [
    "I found this question in the link below:\n",
    "http://nucinkis-lab.cc.ic.ac.uk/HELM/workbooks/workbook_35/35_4_tot_prob_bayes_thm.pdf\n",
    "\n",
    "An engineering company advertises a job in three papers, A, B and C. It is known that these papers attract undergraduate engineering readerships in the proportions 2:3:1. The probabilities that an engineering undergraduate sees and replies to the job advertisement in these papers are 0.002, 0.001 and 0.005 respectively. Assume that the undergraduate sees only one job advertisement. \n",
    "\n",
    "1. If the engineering company receives only one reply to it advertisements, calculate the probability that the applicant has seen the job advertised in place A. \n",
    "\n",
    "2. If the company receives two replies, what is the probability that both applicants saw the job advertised in paper A?\n",
    "\n",
    "Our set of hypotheses for this problem include:\n",
    "\n",
    "A. The applicant that responded to the engineering company saw the job advertised in place A.\n",
    "\n",
    "B. The applicant that responded to the engineering company saw the job advertised in place B.\n",
    "\n",
    "C. The applicant that responded to the engineering company saw the job advertised in place C.\n",
    "\n",
    "Since we are assuming that the undergraduate can only see one job advertisement, we know that only one of these hypotheses can be true. We are also assuming they couldn’t have known to apply without seeing an advertisement, so one of these hypotheses must be true. Thus, we have a set of hypotheses that is mutually exclusive and collectively exhaustive. \n",
    "\n",
    "First we determine our priors, or the probability of each hypothesis (P(H)) before considering the data. In this case the priors represent the probability that an undergraduate sees the advertisement in each location. This information was given to us in the proportion 2:3:1, so:\n",
    "\n",
    "P(A) = 1/3, P(B) = 1/2, P(C) = 1/6\n",
    "\n",
    "Next, we identify the likelihood of the data given each hypothesis, so the probability that the undergraduate replies to the job advertisement after seeing it in each paper.\n",
    "\n",
    "P(D|A) = 0.002, P(D|B) = 0.001, P(D|C) = 0.005\n",
    "\n",
    "Using Bayes’ Theorem, we can now solve for the posteriors.\n",
    "\n",
    "P(A|D) = P(A)P(D|A)/(P(D|A)P(A)+P(D|B)P(B)+P(D|C)P(C)) = 1/3\n",
    "\n",
    "P(B|D) = P(B)P(D|B)/(P(D|A)P(A)+P(D|B)P(B)+P(D|C)P(C)) = 1/4\n",
    "\n",
    "P(C|D) = P(C)P(D|C)/(P(D|A)P(A)+P(D|B)P(B)+P(D|C)P(C)) = 5/12\n",
    "\n",
    "So the answer to the first question, to calculate the probability that the applicant has seen the job advertised in place A, is 1/3. \n",
    "\n",
    "This value can also be used to solve the second question. We can assume that the first and second responses are independent, so the probability that both applicants read paper A is P(A|R)P(A|R) = 1/9.\n",
    "\n",
    "This problem can also be solved using a Pmf."
   ]
  },
  {
   "cell_type": "code",
   "execution_count": 18,
   "metadata": {
    "collapsed": false
   },
   "outputs": [
    {
     "name": "stdout",
     "output_type": "stream",
     "text": [
      "1 0.333\n",
      "2 0.5\n",
      "3 0.1666\n"
     ]
    }
   ],
   "source": [
    "from thinkbayes2 import Pmf\n",
    "\n",
    "pmf = Pmf()\n",
    "pmf[1] = .333\n",
    "pmf[2] = .5\n",
    "pmf[3] = .1666\n",
    "pmf.Print()"
   ]
  },
  {
   "cell_type": "code",
   "execution_count": 19,
   "metadata": {
    "collapsed": false
   },
   "outputs": [
    {
     "name": "stdout",
     "output_type": "stream",
     "text": [
      "1 0.333166583292\n",
      "2 0.250125062531\n",
      "3 0.416708354177\n"
     ]
    }
   ],
   "source": [
    "pmf[1] *= .002\n",
    "pmf[2] *= .001\n",
    "pmf[3] *= .005\n",
    "pmf.Normalize()\n",
    "pmf.Print()"
   ]
  },
  {
   "cell_type": "code",
   "execution_count": null,
   "metadata": {
    "collapsed": true
   },
   "outputs": [],
   "source": []
  }
 ],
 "metadata": {
  "kernelspec": {
   "display_name": "Python 2",
   "language": "python",
   "name": "python2"
  },
  "language_info": {
   "codemirror_mode": {
    "name": "ipython",
    "version": 2
   },
   "file_extension": ".py",
   "mimetype": "text/x-python",
   "name": "python",
   "nbconvert_exporter": "python",
   "pygments_lexer": "ipython2",
   "version": "2.7.6"
  }
 },
 "nbformat": 4,
 "nbformat_minor": 0
}
