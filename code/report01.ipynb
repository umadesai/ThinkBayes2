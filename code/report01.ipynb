{
 "cells": [
  {
   "cell_type": "markdown",
   "metadata": {
    "collapsed": true
   },
   "source": [
    "# CompBayes: Report01\n",
    "\n",
    "## Uma Desai"
   ]
  },
  {
   "cell_type": "markdown",
   "metadata": {},
   "source": [
    "## #1. Job Ads Problem:"
   ]
  },
  {
   "cell_type": "markdown",
   "metadata": {},
   "source": [
    "I found this question in the link below:\n",
    "http://nucinkis-lab.cc.ic.ac.uk/HELM/workbooks/workbook_35/35_4_tot_prob_bayes_thm.pdf\n",
    "\n",
    "**An engineering company advertises a job in three papers, A, B and C. It is known that these papers attract undergraduate engineering readerships in the proportions 2:3:1. The probabilities that an engineering undergraduate sees and replies to the job advertisement in these papers are 0.002, 0.001 and 0.005 respectively. Assume that the undergraduate sees only one job advertisement. **\n",
    "\n",
    "1. If the engineering company receives only one reply to it advertisements, calculate the probability that the applicant has seen the job advertised in place A. \n",
    "\n",
    "2. If the company receives two replies, what is the probability that both applicants saw the job advertised in paper A?\n",
    "\n",
    "Our set of hypotheses for this problem include:\n",
    "\n",
    "A. The applicant that responded to the engineering company saw the job advertised in place A.\n",
    "\n",
    "B. The applicant that responded to the engineering company saw the job advertised in place B.\n",
    "\n",
    "C. The applicant that responded to the engineering company saw the job advertised in place C.\n",
    "\n",
    "Since we are assuming that the undergraduate can only see one job advertisement, we know that only one of these hypotheses can be true. We are also assuming they couldn’t have known to apply without seeing an advertisement, so one of these hypotheses must be true. Thus, we have a set of hypotheses that is mutually exclusive and collectively exhaustive. \n",
    "\n",
    "First we determine our priors, or the probability of each hypothesis (P(H)) before considering the data. In this case the priors represent the probability that an undergraduate sees the advertisement in each location. This information was given to us in the proportion 2:3:1, so:\n",
    "\n",
    "P(A) = 1/3, P(B) = 1/2, P(C) = 1/6\n",
    "\n",
    "Next, we identify the likelihood of the data given each hypothesis, so the probability that the undergraduate replies to the job advertisement after seeing it in each paper.\n",
    "\n",
    "P(D|A) = 0.002, P(D|B) = 0.001, P(D|C) = 0.005\n",
    "\n",
    "Using Bayes’ Theorem, we can now solve for the posteriors.\n",
    "\n",
    "P(A|D) = P(A)P(D|A)/(P(D|A)P(A)+P(D|B)P(B)+P(D|C)P(C)) = 1/3\n",
    "\n",
    "P(B|D) = P(B)P(D|B)/(P(D|A)P(A)+P(D|B)P(B)+P(D|C)P(C)) = 1/4\n",
    "\n",
    "P(C|D) = P(C)P(D|C)/(P(D|A)P(A)+P(D|B)P(B)+P(D|C)P(C)) = 5/12\n",
    "\n",
    "So the answer to the first question, to calculate the probability that the applicant has seen the job advertised in place A, is 1/3. \n",
    "\n",
    "This value can also be used to solve the second question. We can assume that the first and second responses are independent, so the probability that both applicants read paper A is P(A|R)P(A|R) = 1/9.\n",
    "\n",
    "This problem can also be solved using a Pmf."
   ]
  },
  {
   "cell_type": "code",
   "execution_count": 30,
   "metadata": {
    "collapsed": false
   },
   "outputs": [
    {
     "name": "stdout",
     "output_type": "stream",
     "text": [
      "1 0.333\n",
      "2 0.5\n",
      "3 0.1666\n"
     ]
    }
   ],
   "source": [
    "from thinkbayes2 import Pmf, Suite\n",
    "\n",
    "pmf = Pmf()\n",
    "pmf[1] = .333\n",
    "pmf[2] = .5\n",
    "pmf[3] = .1666\n",
    "pmf.Print()"
   ]
  },
  {
   "cell_type": "code",
   "execution_count": 3,
   "metadata": {
    "collapsed": false
   },
   "outputs": [
    {
     "name": "stdout",
     "output_type": "stream",
     "text": [
      "1 0.333166583292\n",
      "2 0.250125062531\n",
      "3 0.416708354177\n"
     ]
    }
   ],
   "source": [
    "pmf[1] *= .002\n",
    "pmf[2] *= .001\n",
    "pmf[3] *= .005\n",
    "pmf.Normalize()\n",
    "pmf.Print()"
   ]
  },
  {
   "cell_type": "markdown",
   "metadata": {},
   "source": [
    "## #2. **My Own Bayes' Problem:**"
   ]
  },
  {
   "cell_type": "markdown",
   "metadata": {
    "collapsed": true
   },
   "source": [
    "You and your best friend are given the opportunity to win $1,000,000! All you have to \n",
    "do is write down on a piece of paper the word \"share\" or the word \"keep.\" If you both write \n",
    "\"share,\" you will each walk away with $500,000. If one of you writes \"keep\" and the other \n",
    "writes \"share\", the one who wrote \"keep\" gets all the money. And if you both write \"keep\", no \n",
    "one gets money. You both agree beforehand to write \"share,\" and you trust your friend completely, of course, but she has been known to lie 1/5 times. She can also be pretty selfish and a risk-taker, and is 65% likely to try to \"keep\" all the money instead. You want to know the chance that you will walk away with you fair share of $500,000 after writing \"share.\"\n",
    "\n",
    "Our set of hypotheses for this problem include:\n",
    "A = she says \"share\"\n",
    "B = she says \"keep\"\n",
    "\n",
    "The priors represent the probabilities that she will choose each of these outcomes regardless\n",
    "of what she told you she would do.\n",
    "H(A) = .35\n",
    "H(B) = .65\n",
    "\n",
    "The likelihoods are based on the probability that she will lie or tell the truth about what she\n",
    "is going to do.\n",
    "\n",
    "P(D|A) = .8\n",
    "P(D|B) = .2\n",
    "\n",
    "Finally, using Bayes’ Theorem, we can solve for the posteriors.\n",
    "\n",
    "P(A|D) = P(A)P(D|A)/(P(D|A)P(A)+P(D|B)P(B)) = 0.28/0.41 = 0.68\n",
    "\n",
    "P(B|D) = P(B)P(D|B)/(P(D|A)P(A)+P(D|B)P(B)) = 0.13/0.41 = 0.32\n",
    "\n",
    "So, the chance that you will leave with your best friend and $500,000 each is 68%. There is still, unfortunately, a 32% chance that your best friend will ditch you for the million dollars. Maybe it's time to find a new bff?\n"
   ]
  },
  {
   "cell_type": "markdown",
   "metadata": {},
   "source": [
    "## #3. Toenail Problem:"
   ]
  },
  {
   "cell_type": "markdown",
   "metadata": {},
   "source": [
    "I found this question in the link below:\n",
    "http://www.maths.uq.edu.au/courses/MATH3104/Lectures/goodhill/bayes_solutions.pdf\n",
    "\n",
    "**You go to see the doctor about an ingrowing toenail. The doctor selects you at random to have a blood test for swine flu, which for the purposes of this exercise we will say is currently suspected to affect 1 in 10,000 people in Australia. The test is 99% accurate, in the sense that the probability of a false positive is 1%. The probability of a false negative is zero. You test positive. What is the new probability that you have swine flu?**\n",
    "\n",
    "Our set of hypotheses:\n",
    "A = you have swine flu\n",
    "B = you don't have swine flu"
   ]
  },
  {
   "cell_type": "markdown",
   "metadata": {},
   "source": [
    "The priors are based on that chance that you have swine flu, regardless of the tests."
   ]
  },
  {
   "cell_type": "code",
   "execution_count": 26,
   "metadata": {
    "collapsed": false
   },
   "outputs": [],
   "source": [
    "cases = Pmf({'A':.0001,'B':.9999})"
   ]
  },
  {
   "cell_type": "markdown",
   "metadata": {},
   "source": [
    "The likelihoods are based on the accuracies of the test."
   ]
  },
  {
   "cell_type": "code",
   "execution_count": 27,
   "metadata": {
    "collapsed": false
   },
   "outputs": [],
   "source": [
    "likelihood = {'A':1,'B':.01}"
   ]
  },
  {
   "cell_type": "markdown",
   "metadata": {},
   "source": [
    "We can now solve for the posteriors."
   ]
  },
  {
   "cell_type": "code",
   "execution_count": 28,
   "metadata": {
    "collapsed": false
   },
   "outputs": [
    {
     "name": "stdout",
     "output_type": "stream",
     "text": [
      "A 0.00990197049213\n",
      "B 0.990098029508\n"
     ]
    }
   ],
   "source": [
    "for hypo in cases:\n",
    "    cases[hypo] *= likelihood[hypo]\n",
    "cases.Normalize()\n",
    "cases.Print()"
   ]
  },
  {
   "cell_type": "markdown",
   "metadata": {},
   "source": [
    "So, there is only a 1% chance that you actually have swine flu."
   ]
  },
  {
   "cell_type": "markdown",
   "metadata": {},
   "source": [
    "## #4. Adjusted Monty Hall:"
   ]
  },
  {
   "cell_type": "markdown",
   "metadata": {},
   "source": [
    "Monty is more unpredictable. As before, Monty never opens the door you chose (let's call it A) and never opens the door with the prize. So if you choose the door with the prize, Monty has to decide which door to open. Suppose he opens B with probability p and C with probability 1-p. If you choose A and Monty opens B, what is the probability that the car is behind A, in terms of p? What if Monty opens C?"
   ]
  },
  {
   "cell_type": "code",
   "execution_count": 35,
   "metadata": {
    "collapsed": false
   },
   "outputs": [
    {
     "name": "stdout",
     "output_type": "stream",
     "text": [
      "A 0.333333333333333*p/(0.333333333333333*p + 0.333333333333333)\n",
      "B 0\n",
      "C 0.333333333333333/(0.333333333333333*p + 0.333333333333333)\n"
     ]
    }
   ],
   "source": [
    "from sympy import symbols\n",
    "p = symbols('p')\n",
    "pmf = Pmf('ABC')\n",
    "pmf['A'] *= p\n",
    "pmf ['B'] *= 0\n",
    "pmf['C'] *= 1\n",
    "pmf.Normalize()\n",
    "pmf.Print()"
   ]
  },
  {
   "cell_type": "code",
   "execution_count": 37,
   "metadata": {
    "collapsed": false
   },
   "outputs": [
    {
     "data": {
      "text/plain": [
       "1.0*p/(p + 1)"
      ]
     },
     "execution_count": 37,
     "metadata": {},
     "output_type": "execute_result"
    }
   ],
   "source": [
    "pmf['A'].simplify()"
   ]
  },
  {
   "cell_type": "code",
   "execution_count": 38,
   "metadata": {
    "collapsed": false
   },
   "outputs": [
    {
     "data": {
      "text/plain": [
       "0.333333333333333"
      ]
     },
     "execution_count": 38,
     "metadata": {},
     "output_type": "execute_result"
    }
   ],
   "source": [
    "pmf['A'].evalf(subs=dict(p=0.5))"
   ]
  }
 ],
 "metadata": {
  "kernelspec": {
   "display_name": "Python [Root]",
   "language": "python",
   "name": "Python [Root]"
  },
  "language_info": {
   "codemirror_mode": {
    "name": "ipython",
    "version": 2
   },
   "file_extension": ".py",
   "mimetype": "text/x-python",
   "name": "python",
   "nbconvert_exporter": "python",
   "pygments_lexer": "ipython2",
   "version": "2.7.12"
  }
 },
 "nbformat": 4,
 "nbformat_minor": 0
}
